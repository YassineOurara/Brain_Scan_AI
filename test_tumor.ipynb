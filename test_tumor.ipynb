{
  "nbformat": 4,
  "nbformat_minor": 0,
  "metadata": {
    "colab": {
      "provenance": [],
      "include_colab_link": true
    },
    "kernelspec": {
      "name": "python3",
      "display_name": "Python 3"
    },
    "language_info": {
      "name": "python"
    }
  },
  "cells": [
    {
      "cell_type": "markdown",
      "metadata": {
        "id": "view-in-github",
        "colab_type": "text"
      },
      "source": [
        "<a href=\"https://colab.research.google.com/github/YassineOurara/Brain_Scan_AI/blob/main/test_tumor.ipynb\" target=\"_parent\"><img src=\"https://colab.research.google.com/assets/colab-badge.svg\" alt=\"Open In Colab\"/></a>"
      ]
    },
    {
      "cell_type": "markdown",
      "source": [
        "##test tumor\n"
      ],
      "metadata": {
        "id": "9D1coOiZ4mnQ"
      }
    },
    {
      "cell_type": "code",
      "execution_count": null,
      "metadata": {
        "id": "TMB9UdT34mAN"
      },
      "outputs": [],
      "source": [
        "!mkdir imgs\n"
      ]
    },
    {
      "cell_type": "code",
      "source": [
        "!mkdir -p imgs/TRAIN/meningioma_tumor"
      ],
      "metadata": {
        "id": "a5LuLFQoe6H4"
      },
      "execution_count": null,
      "outputs": []
    },
    {
      "cell_type": "code",
      "source": [
        "import os\n",
        "import matplotlib.pyplot as plt\n",
        "import numpy as np\n",
        "import pandas as pd\n",
        "import seaborn as sns\n",
        "import cv2\n",
        "import tensorflow as tf\n",
        "from tensorflow.keras.preprocessing.image import ImageDataGenerator\n",
        "from tqdm import tqdm\n",
        "import os\n",
        "from sklearn.utils import shuffle\n",
        "from sklearn.model_selection import train_test_split\n",
        "from tensorflow.keras.applications import EfficientNetB0\n",
        "from tensorflow.keras.callbacks import EarlyStopping, ReduceLROnPlateau, TensorBoard, ModelCheckpoint\n",
        "from sklearn.metrics import classification_report,confusion_matrix\n",
        "import ipywidgets as widgets\n",
        "import io\n",
        "from PIL import Image\n",
        "from IPython.display import display,clear_output\n",
        "from warnings import filterwarnings\n",
        "\n",
        "# for dirname, _, filenames in os.walk('/kaggle/input'):\n",
        "#     for filename in filenames:\n",
        "#         print(os.path.join(dirname, filename))"
      ],
      "metadata": {
        "id": "SAL1qrsD42bb"
      },
      "execution_count": null,
      "outputs": []
    },
    {
      "cell_type": "code",
      "source": [
        "colors_dark = [\"#1F1F1F\", \"#313131\", '#636363', '#AEAEAE', '#DADADA']\n",
        "colors_red = [\"#331313\", \"#582626\", '#9E1717', '#D35151', '#E9B4B4']\n",
        "colors_green = ['#01411C','#4B6F44','#4F7942','#74C365','#D0F0C0']\n",
        "\n",
        "sns.palplot(colors_dark)\n",
        "sns.palplot(colors_green)\n",
        "sns.palplot(colors_red)"
      ],
      "metadata": {
        "id": "U2Sfbtmf4-FS"
      },
      "execution_count": null,
      "outputs": []
    },
    {
      "cell_type": "markdown",
      "source": [
        "###Data Preperation"
      ],
      "metadata": {
        "id": "6vAQHdkK6NCa"
      }
    },
    {
      "cell_type": "code",
      "source": [
        "labels = ['glioma_tumor','no_tumor','meningioma_tumor','pituitary_tumor']\n"
      ],
      "metadata": {
        "id": "_FJjC7K65DRk"
      },
      "execution_count": null,
      "outputs": []
    },
    {
      "cell_type": "code",
      "source": [
        "X_train = []\n",
        "y_train = []\n",
        "image_size = 150\n",
        "for i in labels:\n",
        "    folderPath = os.path.join('/content/imgs','TRAIN',i)\n",
        "    for j in tqdm(os.listdir(folderPath)):\n",
        "        img = cv2.imread(os.path.join(folderPath,j))\n",
        "        img = cv2.resize(img,(image_size, image_size))\n",
        "        X_train.append(img)\n",
        "        y_train.append(i)\n",
        "\n",
        "    \n",
        "        \n",
        "for i in labels:\n",
        "    folderPath = os.path.join('/content/imgs','TEST',i)\n",
        "    for j in tqdm(os.listdir(folderPath)):\n",
        "        img = cv2.imread(os.path.join(folderPath,j))\n",
        "        img = cv2.resize(img,(image_size,image_size))\n",
        "\n",
        "        X_train.append(img)\n",
        "        y_train.append(i)\n",
        "        \n",
        "X_train = np.array(X_train)\n",
        "y_train = np.array(y_train)\n",
        "\n"
      ],
      "metadata": {
        "id": "5_l2lKPm5GEj"
      },
      "execution_count": null,
      "outputs": []
    },
    {
      "cell_type": "code",
      "source": [
        "X_train, y_train = shuffle(X_train,y_train, random_state=101)\n"
      ],
      "metadata": {
        "id": "vQraUVZM54B8"
      },
      "execution_count": null,
      "outputs": []
    },
    {
      "cell_type": "code",
      "source": [
        "X_train.shape"
      ],
      "metadata": {
        "id": "a9Gmu02H58Zy"
      },
      "execution_count": null,
      "outputs": []
    },
    {
      "cell_type": "code",
      "source": [
        "X_train,X_test,y_train,y_test = train_test_split(X_train,y_train, test_size=0.1,random_state=101)"
      ],
      "metadata": {
        "id": "rtPraDO25_A-"
      },
      "execution_count": null,
      "outputs": []
    },
    {
      "cell_type": "code",
      "source": [
        "y_train_new = []\n",
        "for i in y_train:\n",
        "    y_train_new.append(labels.index(i))\n",
        "y_train = y_train_new\n",
        "y_train = tf.keras.utils.to_categorical(y_train)\n",
        "\n",
        "\n",
        "y_test_new = []\n",
        "for i in y_test:\n",
        "    y_test_new.append(labels.index(i))\n",
        "y_test = y_test_new\n",
        "y_test = tf.keras.utils.to_categorical(y_test)"
      ],
      "metadata": {
        "id": "pfhHTZwC6ERx"
      },
      "execution_count": null,
      "outputs": []
    },
    {
      "cell_type": "markdown",
      "source": [
        "###Transfer Learning"
      ],
      "metadata": {
        "id": "l2NE6CegDfgX"
      }
    },
    {
      "cell_type": "code",
      "source": [
        "effnet = EfficientNetB0(weights='imagenet',include_top=False,input_shape=(image_size,image_size,3))"
      ],
      "metadata": {
        "id": "rhS_vLwV6G-3"
      },
      "execution_count": null,
      "outputs": []
    },
    {
      "cell_type": "code",
      "source": [
        "model = effnet.output\n",
        "model = tf.keras.layers.GlobalAveragePooling2D()(model)\n",
        "model = tf.keras.layers.Dropout(rate=0.5)(model)\n",
        "model = tf.keras.layers.Dense(4,activation='softmax')(model)\n",
        "model = tf.keras.models.Model(inputs=effnet.input, outputs = model)"
      ],
      "metadata": {
        "id": "m89-xBMBEXYz"
      },
      "execution_count": null,
      "outputs": []
    },
    {
      "cell_type": "code",
      "source": [
        "model.summary()"
      ],
      "metadata": {
        "id": "fa0-mT0hEYiD"
      },
      "execution_count": null,
      "outputs": []
    },
    {
      "cell_type": "code",
      "source": [
        "model.compile(loss='categorical_crossentropy',optimizer = 'Adam', metrics= ['accuracy'])\n"
      ],
      "metadata": {
        "id": "UsLKtXHLEc9Q"
      },
      "execution_count": null,
      "outputs": []
    },
    {
      "cell_type": "code",
      "source": [
        "tensorboard = TensorBoard(log_dir = 'logs')\n",
        "checkpoint = ModelCheckpoint(\"effnet.h5\",monitor=\"val_accuracy\",save_best_only=True,mode=\"auto\",verbose=1)\n",
        "reduce_lr = ReduceLROnPlateau(monitor = 'val_accuracy', factor = 0.3, patience = 2, min_delta = 0.001,\n",
        "                              mode='auto',verbose=1)"
      ],
      "metadata": {
        "id": "eiYI1FQJEgTG"
      },
      "execution_count": null,
      "outputs": []
    },
    {
      "cell_type": "markdown",
      "source": [
        "###Train the model"
      ],
      "metadata": {
        "id": "BOnOOH7sEhbw"
      }
    },
    {
      "cell_type": "code",
      "source": [
        "history = model.fit(X_train,y_train,validation_split=0.1, epochs =12, verbose=1, batch_size=32,\n",
        "                   callbacks=[tensorboard,checkpoint,reduce_lr])"
      ],
      "metadata": {
        "id": "zYrdLKOoEklg"
      },
      "execution_count": null,
      "outputs": []
    },
    {
      "cell_type": "markdown",
      "source": [
        "###Prediction"
      ],
      "metadata": {
        "id": "cCSjg4wrV2OE"
      }
    },
    {
      "cell_type": "code",
      "source": [
        "pred = model.predict(X_test)\n",
        "pred = np.argmax(pred,axis=1)\n",
        "y_test_new = np.argmax(y_test,axis=1)"
      ],
      "metadata": {
        "id": "Uy1XP3EOVlae"
      },
      "execution_count": null,
      "outputs": []
    },
    {
      "cell_type": "markdown",
      "source": [
        "###Evaluation"
      ],
      "metadata": {
        "id": "xuhoexBDXC_o"
      }
    },
    {
      "cell_type": "code",
      "source": [
        "# ////////////////\n",
        "# 0 - Glioma Tumor\n",
        "# 1 - No Tumor\n",
        "# 2 - Meningioma Tumor\n",
        "# 3 - Pituitary Tumor\n",
        "\n",
        "print(classification_report(y_test_new,pred))\n"
      ],
      "metadata": {
        "id": "1DaOXkiyXE6V"
      },
      "execution_count": null,
      "outputs": []
    },
    {
      "cell_type": "markdown",
      "source": [
        "###Bonus Content: Widgets"
      ],
      "metadata": {
        "id": "RjtzCgTBXTpD"
      }
    },
    {
      "cell_type": "code",
      "source": [
        "def img_pred(upload):\n",
        "    for name, file_info in uploader.value.items():\n",
        "        img = Image.open(io.BytesIO(file_info['content']))\n",
        "    opencvImage = cv2.cvtColor(np.array(img), cv2.COLOR_RGB2BGR)\n",
        "    img = cv2.resize(opencvImage,(150,150))\n",
        "    img = img.reshape(1,150,150,3)\n",
        "    p = model.predict(img)\n",
        "    p = np.argmax(p,axis=1)[0]\n",
        "\n",
        "    if p==0:\n",
        "        p='Glioma Tumor'\n",
        "    elif p==1:\n",
        "        print('The model predicts that there is no tumor')\n",
        "    elif p==2:\n",
        "        p='Meningioma Tumor'\n",
        "    else:\n",
        "        p='Pituitary Tumor'\n",
        "\n",
        "    if p!=1:\n",
        "        print(f'The Model predicts that it is a {p}')"
      ],
      "metadata": {
        "id": "1WenOlyFXU7Y"
      },
      "execution_count": null,
      "outputs": []
    },
    {
      "cell_type": "code",
      "source": [
        "\n",
        "\n",
        "# L'image est no-tumor\n",
        "button = widgets.Button(description='Predict')\n",
        "out = widgets.Output()\n",
        "def on_button_clicked(_):\n",
        "    with out:\n",
        "        clear_output()\n",
        "        try:\n",
        "            img_pred(uploader)\n",
        "            \n",
        "        except:\n",
        "            print('No Image Uploaded/Invalid Image File')\n"
      ],
      "metadata": {
        "id": "BnDT-uwgXadU"
      },
      "execution_count": null,
      "outputs": []
    },
    {
      "cell_type": "code",
      "source": [
        "uploader = widgets.FileUpload()\n",
        "display(uploader)\n",
        "\n",
        "button.on_click(on_button_clicked)\n",
        "print()\n",
        "widgets.VBox([button,out])"
      ],
      "metadata": {
        "id": "WwxOG7TXXhRy"
      },
      "execution_count": null,
      "outputs": []
    },
    {
      "cell_type": "markdown",
      "source": [
        "####Saving the model"
      ],
      "metadata": {
        "id": "y1HLKjbbjYjV"
      }
    },
    {
      "cell_type": "code",
      "source": [
        "import joblib \n",
        "\n",
        "# Save the model\n",
        "joblib.dump(model, 'our_model.joblib') \n",
        "\n"
      ],
      "metadata": {
        "id": "Dop9fj73jd2P"
      },
      "execution_count": null,
      "outputs": []
    },
    {
      "cell_type": "code",
      "source": [
        "tf.keras.models.save_model(model, 'our_model_BT.h5')"
      ],
      "metadata": {
        "id": "X0y_mZlP1e_b"
      },
      "execution_count": null,
      "outputs": []
    },
    {
      "cell_type": "code",
      "source": [
        "import joblib\n",
        "\n",
        "# Save the model\n",
        "joblib.dump(model, 'your_model_ZLIB.joblib', compress=('zlib',9))\n",
        "\n",
        "\n"
      ],
      "metadata": {
        "id": "w7Eifh7R5UBU"
      },
      "execution_count": null,
      "outputs": []
    },
    {
      "cell_type": "code",
      "source": [
        "# Load the model\n",
        "loaded_model = joblib.load('your_model_ZLIB.joblib')"
      ],
      "metadata": {
        "id": "7wegik_Y54_g"
      },
      "execution_count": null,
      "outputs": []
    },
    {
      "cell_type": "code",
      "source": [
        "# # Load the model from the file \n",
        "# knn_from_joblib = joblib.load('my_model_knn.pkl') \n",
        "\n"
      ],
      "metadata": {
        "id": "URL3Yxt1jlWm"
      },
      "execution_count": null,
      "outputs": []
    },
    {
      "cell_type": "code",
      "source": [
        "# import joblib\n",
        "# !mkdir model_tumor\n",
        "# from joblib import dump\n",
        "# dump(model, './content/model_tumor')\n",
        "\n",
        "# dirname = os.path.dirname('model_tumor')\n",
        "# filename = os.path.join(dirname)\n",
        "# dump(model, filename )"
      ],
      "metadata": {
        "id": "2yXuqyhXYD7w"
      },
      "execution_count": null,
      "outputs": []
    }
  ]
}